{
 "cells": [
  {
   "cell_type": "markdown",
   "metadata": {},
   "source": [
    "## Fit A Few Models"
   ]
  },
  {
   "cell_type": "code",
   "execution_count": 1,
   "metadata": {},
   "outputs": [
    {
     "name": "stdout",
     "output_type": "stream",
     "text": [
      "Connection working!\n",
      "Querying for main table\n",
      "Got main table\n",
      "Simplifying venues\n",
      "Venues simplified\n",
      "Simplifying events\n",
      "Events simplified\n",
      "Simplifying zones\n",
      "Zones simplified\n",
      "Querying for performers\n",
      "Dummying performers\n",
      "Performers dummied\n",
      "Concatenating dummied performers\n",
      "Performers concatanated\n",
      "Starting final cleanup\n",
      "Done\n"
     ]
    }
   ],
   "source": [
    "import numpy as np\n",
    "import pandas as pd\n",
    "from sqlalchemy import create_engine\n",
    "import re\n",
    "import matplotlib.pyplot as plt\n",
    "%matplotlib inline\n",
    "from sklearn.metrics import confusion_matrix, roc_curve, auc, roc_auc_score\n",
    "from sklearn.linear_model import LogisticRegression #C is regularization param\n",
    "from sklearn.svm import SVC\n",
    "from sklearn.ensemble import RandomForestClassifier\n",
    "from sklearn import discriminant_analysis\n",
    "from sklearn import naive_bayes\n",
    "from ticket_prediction_data import Ticket_PredictionData\n",
    "\n",
    "tixO = Ticket_PredictionData()\n",
    "\n",
    "X_train, X_test, y_train, y_test = tixO.get_data()\n",
    "\n",
    "logistic = LogisticRegression(C=1e5) \n",
    "\n",
    "logistic.fit(X_train, y_train)\n",
    "logistic_proba = logistic.predict_proba(X_train)\n",
    "preds = logistic_proba[:,1]"
   ]
  },
  {
   "cell_type": "code",
   "execution_count": 2,
   "metadata": {},
   "outputs": [],
   "source": [
    "logistic = LogisticRegression(C=1e5) \n",
    "\n",
    "logistic.fit(X_train, y_train)\n",
    "logistic_proba = logistic.predict_proba(X_train)\n",
    "preds = logistic_proba[:,1]"
   ]
  },
  {
   "cell_type": "code",
   "execution_count": 8,
   "metadata": {},
   "outputs": [],
   "source": [
    "predsT = logistic.predict_proba(X_test)[:,1]"
   ]
  },
  {
   "cell_type": "markdown",
   "metadata": {},
   "source": [
    "## Custom Model Score Definition"
   ]
  },
  {
   "cell_type": "code",
   "execution_count": 12,
   "metadata": {},
   "outputs": [],
   "source": [
    "def ModelScore(prob_pred, actuals, prob_cut, fn_penalty = 15): #static result\n",
    "\n",
    "    tn, fp, fn, tp = confusion_matrix(actuals, prob_pred > prob_cut).ravel()\n",
    "    \n",
    "    return (fn_penalty*fn + 1*fp) / prob_pred.shape[0]\n",
    "\n",
    "def rbsLoss(p, q, prob_pred, actuals, fn_penalty = 15): #recursive binary search\n",
    "    \n",
    "    eps = (q-p) / 1000\n",
    "    tol = .0005\n",
    "    \n",
    "    if((q-p) < tol):\n",
    "        return (p, ModelScore(prob_pred, actuals, p, fn_penalty = 15))\n",
    "    \n",
    "    m = (p + q) / 2.0\n",
    "    \n",
    "    if(ModelScore(prob_pred, actuals, m, fn_penalty = 15) > ModelScore(prob_pred, actuals, m+eps, fn_penalty = 15)):\n",
    "        return rbsLoss(m,q,prob_pred, actuals, fn_penalty = 15)\n",
    "    else:\n",
    "        return rbsLoss(p,m,prob_pred, actuals, fn_penalty = 15)\n",
    "    \n",
    "def ModelOpt(preds_train, y_train, preds_test, y_test):\n",
    "    \n",
    "    trainingData = rbsLoss(0,1,preds_train, y_train) # (p_train, train_ModelScore)\n",
    "    testData = (trainingData[0],ModelScore(preds_test, y_test, trainingData[0], fn_penalty = 15)) # (p_train, test_ModelScore)\n",
    "    \n",
    "    return (trainingData, testData)"
   ]
  },
  {
   "cell_type": "markdown",
   "metadata": {},
   "source": [
    "## Test the Above"
   ]
  },
  {
   "cell_type": "code",
   "execution_count": 13,
   "metadata": {},
   "outputs": [
    {
     "data": {
      "text/plain": [
       "((0.185546875, 0.81577001600176569), (0.185546875, 1.0758525504629364))"
      ]
     },
     "execution_count": 13,
     "metadata": {},
     "output_type": "execute_result"
    }
   ],
   "source": [
    "ModelOpt(preds, y_train, predsT, y_test)"
   ]
  },
  {
   "cell_type": "markdown",
   "metadata": {},
   "source": [
    "## Logistic Custom Loss Scores"
   ]
  },
  {
   "cell_type": "code",
   "execution_count": 51,
   "metadata": {},
   "outputs": [],
   "source": [
    "x0 = np.linspace(0,1,101)\n",
    "y0 = np.zeros(101)\n",
    "i = 0\n",
    "\n",
    "for each in x0:\n",
    "    y0[i] = ModelScore(preds, y_train, each)\n",
    "    i = i+1"
   ]
  },
  {
   "cell_type": "code",
   "execution_count": 52,
   "metadata": {},
   "outputs": [
    {
     "data": {
      "image/png": "[encoded data removed]",
      "text/plain": [
       "<matplotlib.figure.Figure at 0x14f3f510>"
      ]
     },
     "metadata": {},
     "output_type": "display_data"
    }
   ],
   "source": [
    "plt.plot(x0, y0)\n",
    "plt.axvline(x = 0.07)\n",
    "plt.axvline(x = 0.10)\n",
    "plt.xlabel('Probability Cut-Off')\n",
    "plt.ylabel('Model Score')\n",
    "plt.title('Model Score as a Function of Probability Cut-Off')\n",
    "plt.show()"
   ]
  },
  {
   "cell_type": "markdown",
   "metadata": {},
   "source": [
    "## Random Forest Custom Loss Scores"
   ]
  },
  {
   "cell_type": "code",
   "execution_count": 5,
   "metadata": {},
   "outputs": [],
   "source": [
    "rfc = RandomForestClassifier()\n",
    "\n",
    "rfc.fit(X_train, y_train)\n",
    "rfc_proba = rfc.predict_proba(X_train)\n",
    "rfc_preds = rfc_proba[:,1]"
   ]
  },
  {
   "cell_type": "code",
   "execution_count": 6,
   "metadata": {},
   "outputs": [],
   "source": [
    "x_rfc = np.linspace(0,1,201)\n",
    "y_rfc = np.zeros(201)\n",
    "i = 0\n",
    "\n",
    "for each in x_rfc:\n",
    "    y_rfc[i] = ModelScore(rfc_preds, y_train, each)\n",
    "    i = i+1"
   ]
  },
  {
   "cell_type": "code",
   "execution_count": 7,
   "metadata": {},
   "outputs": [
    {
     "data": {
      "image/png": "[encoded data removed]",
      "text/plain": [
       "<matplotlib.figure.Figure at 0x15db66d0>"
      ]
     },
     "metadata": {},
     "output_type": "display_data"
    }
   ],
   "source": [
    "plt.plot(x_rfc, y_rfc)\n",
    "plt.show()"
   ]
  },
  {
   "cell_type": "code",
   "execution_count": 8,
   "metadata": {},
   "outputs": [],
   "source": [
    "rfcDF = pd.DataFrame()\n",
    "rfcDF['CutOff'] = x_rfc\n",
    "rfcDF['CustomLossScore'] = y_rfc"
   ]
  },
  {
   "cell_type": "code",
   "execution_count": 9,
   "metadata": {},
   "outputs": [
    {
     "data": {
      "text/html": [
       "<div>\n",
       "<style scoped>\n",
       "    .dataframe tbody tr th:only-of-type {\n",
       "        vertical-align: middle;\n",
       "    }\n",
       "\n",
       "    .dataframe tbody tr th {\n",
       "        vertical-align: top;\n",
       "    }\n",
       "\n",
       "    .dataframe thead th {\n",
       "        text-align: right;\n",
       "    }\n",
       "</style>\n",
       "<table border=\"1\" class=\"dataframe\">\n",
       "  <thead>\n",
       "    <tr style=\"text-align: right;\">\n",
       "      <th></th>\n",
       "      <th>CutOff</th>\n",
       "      <th>CustomLossScore</th>\n",
       "    </tr>\n",
       "  </thead>\n",
       "  <tbody>\n",
       "    <tr>\n",
       "      <th>40</th>\n",
       "      <td>0.2</td>\n",
       "      <td>1861.0</td>\n",
       "    </tr>\n",
       "  </tbody>\n",
       "</table>\n",
       "</div>"
      ],
      "text/plain": [
       "    CutOff  CustomLossScore\n",
       "40     0.2           1861.0"
      ]
     },
     "execution_count": 9,
     "metadata": {},
     "output_type": "execute_result"
    }
   ],
   "source": [
    "rfcDF.loc[rfcDF.CustomLossScore == rfcDF.CustomLossScore.min()]"
   ]
  },
  {
   "cell_type": "code",
   "execution_count": 10,
   "metadata": {},
   "outputs": [
    {
     "data": {
      "text/html": [
       "<div>\n",
       "<style scoped>\n",
       "    .dataframe tbody tr th:only-of-type {\n",
       "        vertical-align: middle;\n",
       "    }\n",
       "\n",
       "    .dataframe tbody tr th {\n",
       "        vertical-align: top;\n",
       "    }\n",
       "\n",
       "    .dataframe thead th {\n",
       "        text-align: right;\n",
       "    }\n",
       "</style>\n",
       "<table border=\"1\" class=\"dataframe\">\n",
       "  <thead>\n",
       "    <tr style=\"text-align: right;\">\n",
       "      <th></th>\n",
       "      <th>CutOff</th>\n",
       "      <th>CustomLossScore</th>\n",
       "    </tr>\n",
       "  </thead>\n",
       "  <tbody>\n",
       "    <tr>\n",
       "      <th>8</th>\n",
       "      <td>0.08</td>\n",
       "      <td>55759.0</td>\n",
       "    </tr>\n",
       "  </tbody>\n",
       "</table>\n",
       "</div>"
      ],
      "text/plain": [
       "   CutOff  CustomLossScore\n",
       "8    0.08          55759.0"
      ]
     },
     "execution_count": 10,
     "metadata": {},
     "output_type": "execute_result"
    }
   ],
   "source": [
    "logDF = pd.DataFrame()\n",
    "logDF['CutOff'] = x\n",
    "logDF['CustomLossScore'] = y\n",
    "logDF.loc[logDF.CustomLossScore == logDF.CustomLossScore.min()]"
   ]
  },
  {
   "cell_type": "markdown",
   "metadata": {},
   "source": [
    "## Recursive Binary Search for Minimum"
   ]
  },
  {
   "cell_type": "code",
   "execution_count": 60,
   "metadata": {},
   "outputs": [
    {
     "name": "stdout",
     "output_type": "stream",
     "text": [
      "0\n",
      "1\n",
      "0\n",
      "0.5\n",
      "0\n",
      "0.25\n",
      "0\n",
      "0.125\n",
      "0.0625\n",
      "0.125\n",
      "0.09375\n",
      "0.125\n",
      "0.09375\n",
      "0.109375\n",
      "0.1015625\n",
      "0.109375\n",
      "0.1015625\n",
      "0.10546875\n",
      "0.1015625\n",
      "0.103515625\n",
      "0.1015625\n",
      "0.1025390625\n",
      "0.1015625\n",
      "0.10205078125\n",
      "Final predicted cut-off is:  0.1015625\n"
     ]
    },
    {
     "data": {
      "text/plain": [
       "57916"
      ]
     },
     "execution_count": 60,
     "metadata": {},
     "output_type": "execute_result"
    }
   ],
   "source": [
    "rbsLoss(0,1, preds, y_train, fn_penalty = 15) "
   ]
  },
  {
   "cell_type": "markdown",
   "metadata": {},
   "source": [
    "## Zoom on Local Behavior"
   ]
  },
  {
   "cell_type": "code",
   "execution_count": 29,
   "metadata": {},
   "outputs": [],
   "source": [
    "x = np.linspace(0.07,0.10,301)\n",
    "y = np.zeros(301)\n",
    "i = 0\n",
    "\n",
    "for each in x:\n",
    "    y[i] = ModelScore(preds, y_train, each)\n",
    "    i = i+1"
   ]
  },
  {
   "cell_type": "code",
   "execution_count": 61,
   "metadata": {},
   "outputs": [
    {
     "data": {
      "image/png": "[encoded data removed]",
      "text/plain": [
       "<matplotlib.figure.Figure at 0x170df890>"
      ]
     },
     "metadata": {},
     "output_type": "display_data"
    }
   ],
   "source": [
    "plt.plot(x, y)\n",
    "plt.xlabel('Probability Cut-Off')\n",
    "plt.axvline(x = .09375)\n",
    "plt.ylabel('Model Score')\n",
    "plt.title('Local Behavior')\n",
    "plt.show()"
   ]
  }
 ],
 "metadata": {
  "kernelspec": {
   "display_name": "Python 3",
   "language": "python",
   "name": "python3"
  },
  "language_info": {
   "codemirror_mode": {
    "name": "ipython",
    "version": 3
   },
   "file_extension": ".py",
   "mimetype": "text/x-python",
   "name": "python",
   "nbconvert_exporter": "python",
   "pygments_lexer": "ipython3",
   "version": "3.6.2"
  }
 },
 "nbformat": 4,
 "nbformat_minor": 2
}
